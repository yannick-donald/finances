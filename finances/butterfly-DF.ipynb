{
 "cells": [
  {
   "cell_type": "code",
   "execution_count": 31,
   "metadata": {},
   "outputs": [],
   "source": [
    "#butterfly\n",
    "\n",
    "import numpy as np\n",
    "from matplotlib import cm\n",
    "from matplotlib import pyplot as plt\n",
    "import matplotlib\n",
    "from mpl_toolkits.mplot3d import Axes3D\n",
    "from random import random\n",
    "\n",
    "def payoff_butterfly(s,K):\n",
    "  \n",
    "    \n",
    "    if s <= K:\n",
    "        return 0\n",
    "    if K< s <= 2*K:\n",
    "        return s-K\n",
    "    if 2*K< s < 3*K:\n",
    "        return 3*K-s\n",
    "    if s>=3*K:\n",
    "        return 0\n",
    "\n",
    "def  Prix_butterfly_Stfixe_tfixe(t,St,sigma,r,T,Nmc,K):\n",
    "    gain = np.zeros((Nmc))\n",
    "    for n in range(Nmc):\n",
    "        g= np.random.randn() \n",
    "        ST= St*np.exp((r-sigma**2/2)*(T-t)+ sigma*np.sqrt(T-t)*g)\n",
    "        gain[n]= payoff_butterfly(ST,K)\n",
    "        \n",
    "    prix=np.exp(-r*(T-t))*np.mean(gain)\n",
    "    \n",
    "    return prix\n",
    "\n",
    "def Surface_butterfly():\n",
    "    \n",
    "    Nmc=1000\n",
    "    L=80\n",
    "    K=10\n",
    "    T=0.5\n",
    "    r=0.1\n",
    "    sigma=0.5\n",
    "    Nt=10\n",
    "    Ns=40\n",
    "    N= 99\n",
    "    M= 4999\n",
    "    \n",
    "    S=np.linspace(0,L,N+2)\n",
    "    t1=np.linspace(0,T,M+2)\n",
    "    V=np.zeros((M+2,N+2))\n",
    "    dt=T/(M+2)\n",
    "    ds =L/(N+2)\n",
    "    \n",
    "    St=np.linspace(0,L,Ns)\n",
    "    t=np.linspace(0,T,Nt)\n",
    "    \n",
    "    prix_surface = np.zeros((Nt,Ns))\n",
    "    V=np.zeros((M+2,N+2))\n",
    "    \n",
    "    for j in range(Ns):\n",
    "        for m in range(Nt):\n",
    "            \n",
    "            prix_surface[m][j]= Prix_butterfly_Stfixe_tfixe(t[m],St[j],sigma,r,T,Nmc,K)\n",
    "    \n",
    "    \n",
    "    for i in range(N+2):\n",
    "        V[M+1][i]=  payoff_butterfly(S[i],K)\n",
    "    \n",
    "   \n",
    "\n",
    "    for n in range(M+1,0,-1):\n",
    "        for i in range(0,N+1):\n",
    "            V[n-1][i]=V[n][i]+dt*(r*S[i]*(V[n][i+1]-V[n][i-1])/(2*ds)+1/2*sigma**2*S[i]**2*(V[n][i+1]+V[n][i-1]-2*V[n][i])/(ds*ds)-r*V[n][i])\n",
    "\n",
    "    \n",
    "    \n",
    "   \n",
    "    plt.plot(St, prix_surface[0])\n",
    "    \n",
    "    plt.plot(S,V[0])\n",
    "    plt.plot(S,  V[M+1] )\n",
    "    plt.legend(('methode MC','méthode Df'))\n",
    "    \n",
    "    plt.show()\n",
    "    \n"
   ]
  },
  {
   "cell_type": "code",
   "execution_count": 32,
   "metadata": {},
   "outputs": [
    {
     "data": {
      "image/png": "[encoded data removed]",
      "text/plain": [
       "<Figure size 432x288 with 1 Axes>"
      ]
     },
     "metadata": {
      "needs_background": "light"
     },
     "output_type": "display_data"
    }
   ],
   "source": [
    "Surface_butterfly()"
   ]
  },
  {
   "cell_type": "code",
   "execution_count": null,
   "metadata": {},
   "outputs": [],
   "source": []
  }
 ],
 "metadata": {
  "kernelspec": {
   "display_name": "Python 3",
   "language": "python",
   "name": "python3"
  },
  "language_info": {
   "codemirror_mode": {
    "name": "ipython",
    "version": 3
   },
   "file_extension": ".py",
   "mimetype": "text/x-python",
   "name": "python",
   "nbconvert_exporter": "python",
   "pygments_lexer": "ipython3",
   "version": "3.8.3"
  }
 },
 "nbformat": 4,
 "nbformat_minor": 4
}
